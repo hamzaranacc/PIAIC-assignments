{
 "cells": [
  {
   "cell_type": "markdown",
   "metadata": {},
   "source": [
    "# The ABC company has hired you as an intern on the coding team that creates e-commerce applications.  \n",
    "You must write a script that asks the user for a value. The value must be used as a whole number in a calculation, even if the user enters a decimal value. \n",
    "\n",
    "You need to write the code to meet the requirements."
   ]
  },
  {
   "cell_type": "code",
   "execution_count": 4,
   "metadata": {},
   "outputs": [
    {
     "name": "stdout",
     "output_type": "stream",
     "text": [
      "enter value of the product :3.55\n",
      "3\n"
     ]
    }
   ],
   "source": [
    "a=float(input(\"enter value of the product :\"))\n",
    "print(int(a))"
   ]
  },
  {
   "cell_type": "code",
   "execution_count": null,
   "metadata": {},
   "outputs": [],
   "source": []
  },
  {
   "cell_type": "markdown",
   "metadata": {},
   "source": [
    "# You are creating a Python program that shows a congratulation message to employees on their service anniversary.\n",
    "You need to calculate the number of years of service and print a congratulatory message."
   ]
  },
  {
   "cell_type": "code",
   "execution_count": 8,
   "metadata": {},
   "outputs": [
    {
     "name": "stdout",
     "output_type": "stream",
     "text": [
      "Enter the year you've started the job :1992\n",
      "Enter current year :2019\n",
      "Congratuations on your 27 anniversary\n"
     ]
    }
   ],
   "source": [
    "a=int(input(\"Enter the year you've started the job :\"))\n",
    "b=int(input(\"Enter current year :\"))\n",
    "print(\"Congratuations on your\",b-a,\"anniversary\")"
   ]
  },
  {
   "cell_type": "code",
   "execution_count": null,
   "metadata": {},
   "outputs": [],
   "source": []
  },
  {
   "cell_type": "code",
   "execution_count": null,
   "metadata": {},
   "outputs": [],
   "source": []
  },
  {
   "cell_type": "markdown",
   "metadata": {},
   "source": [
    "# Write a Python program to convert temperatures  from fahrenheit to celsius, \n",
    "#step 1: take \"fahrenheit Temperature\" from user in integer data type\n",
    "#step 2: apply formula that is       (  C = (5/9) * (fahrenheit_temperature - 32)  )\n",
    "#step 3: print step 2. "
   ]
  },
  {
   "cell_type": "code",
   "execution_count": 9,
   "metadata": {},
   "outputs": [
    {
     "name": "stdout",
     "output_type": "stream",
     "text": [
      "write temperature in ferhenheit :10\n",
      "temperature in celcius = -12.222222222222223\n"
     ]
    }
   ],
   "source": [
    "\n",
    "a=int(input(\"write temperature in ferhenheit :\"))\n",
    "b=(5/9)*(a-32)\n",
    "print(\"temperature in celcius =\",b)"
   ]
  },
  {
   "cell_type": "code",
   "execution_count": null,
   "metadata": {},
   "outputs": [],
   "source": []
  },
  {
   "cell_type": "code",
   "execution_count": null,
   "metadata": {},
   "outputs": [],
   "source": []
  },
  {
   "cell_type": "markdown",
   "metadata": {},
   "source": [
    "<h3>assign a vlue to grade by checking the following conditions:: </h3>\n",
    "<h3>if % is greater then and equal to 90 and less then 100 grade is A+ </h3>\n",
    "<h3>if % is greater then and equal to 80 and less then 90 grade is A </h3>\n",
    "<h3>if % is greater then and equal to 70 and less then 80 grade is B </h3>\n",
    "<h3>if % is greater then and equal to 60 and less then 70 grade is C </h3>\n",
    "<h3>if % is less than 60 grade is FAIL </h3>\n"
   ]
  },
  {
   "cell_type": "code",
   "execution_count": 19,
   "metadata": {},
   "outputs": [
    {
     "name": "stdout",
     "output_type": "stream",
     "text": [
      "enter your percentage :95\n",
      "your Grade is A+\n"
     ]
    }
   ],
   "source": [
    "a=int(input(\"enter your percentage :\"))\n",
    "if a>=90 and a<100:\n",
    "    print(\"your Grade is A+\")\n",
    "elif a>=80 and a<90:\n",
    "    print(\"your Grade is A\")\n",
    "elif a>=70 and a<80:\n",
    "    print(\"your Grade is B\")\n",
    "elif a>=60 and a<70:\n",
    "    print(\"your Grade is C\")\n",
    "elif a<60:\n",
    "    print(\"your are FAIL\")\n",
    "\n",
    "    "
   ]
  },
  {
   "cell_type": "code",
   "execution_count": null,
   "metadata": {},
   "outputs": [],
   "source": []
  },
  {
   "cell_type": "code",
   "execution_count": null,
   "metadata": {},
   "outputs": [],
   "source": []
  },
  {
   "cell_type": "markdown",
   "metadata": {},
   "source": [
    "<h3>Print grade percentage and obtained marks</h3>"
   ]
  },
  {
   "cell_type": "code",
   "execution_count": 20,
   "metadata": {},
   "outputs": [
    {
     "name": "stdout",
     "output_type": "stream",
     "text": [
      "500\n",
      "393\n",
      "78.60000000000001\n",
      "Grade=A\n"
     ]
    }
   ],
   "source": [
    "total_marks=500\n",
    "URDU=75\n",
    "ENGLISH=75\n",
    "MATHS=88\n",
    "PHYSICS=85\n",
    "CHEMISTRY=70\n",
    "obtained_marks=URDU+ENGLISH+MATHS+PHYSICS+CHEMISTRY\n",
    "percentage=(obtained_marks/total_marks)*100\n",
    "print(total_marks)\n",
    "print(obtained_marks)\n",
    "print(percentage)\n",
    "if(percentage>80):\n",
    "    print(\"Grade=A+\");\n",
    "elif(percentage>70 and percentage<=79):\n",
    "    print(\"Grade=A\")\n",
    "elif(percentage>60 and percentage<=69):\n",
    "    print(\"Grade=B\")\n",
    "elif(percentage>50 and percentage<=59):\n",
    "    print(\"Grade=C\")\n",
    "elif(percentage<50):\n",
    "    print(\"Grade= FAIL\")\n",
    "\n",
    "    \n"
   ]
  },
  {
   "cell_type": "code",
   "execution_count": null,
   "metadata": {},
   "outputs": [],
   "source": []
  }
 ],
 "metadata": {
  "kernelspec": {
   "display_name": "Python 3",
   "language": "python",
   "name": "python3"
  },
  "language_info": {
   "codemirror_mode": {
    "name": "ipython",
    "version": 3
   },
   "file_extension": ".py",
   "mimetype": "text/x-python",
   "name": "python",
   "nbconvert_exporter": "python",
   "pygments_lexer": "ipython3",
   "version": "3.7.1"
  }
 },
 "nbformat": 4,
 "nbformat_minor": 2
}
